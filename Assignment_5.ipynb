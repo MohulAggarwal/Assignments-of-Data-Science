{
 "cells": [
  {
   "cell_type": "markdown",
   "id": "d5b67f53",
   "metadata": {},
   "source": [
    "Ans1\n",
    "\n",
    "In Python, an empty dictionary is represented by a pair of curly braces `{}` with no key-value pairs inside. Here's what the code for an empty dictionary looks like:\n",
    "\n",
    "```python\n",
    "empty_dict = {}\n",
    "```\n",
    "\n",
    "You can also create an empty dictionary using the `dict()` constructor:\n",
    "\n",
    "```python\n",
    "empty_dict = dict()\n",
    "```\n",
    "\n",
    "Both of these methods will create an empty dictionary object that you can later populate with key-value pairs."
   ]
  },
  {
   "cell_type": "markdown",
   "id": "b29e83fe",
   "metadata": {},
   "source": [
    "\n",
    "\n",
    "Ans 2\n",
    "\n",
    "\n",
    "If you have a dictionary with the key `'foo'` and the value `42`, the value associated with the key `'foo'` is `42`. You can access it using the key `'foo'` as follows:\n",
    "\n",
    "```python\n",
    "my_dict = {'foo': 42}\n",
    "value = my_dict['foo']\n",
    "print(value)  # This will output 42\n",
    "```\n",
    "\n",
    "In this code, `my_dict` is a dictionary with one key-value pair where the key is `'foo'` and the value is `42`. When you access `my_dict['foo']`, you retrieve the value associated with the key `'foo'`, which is `42`."
   ]
  },
  {
   "cell_type": "code",
   "execution_count": 1,
   "id": "51ba6f32",
   "metadata": {},
   "outputs": [
    {
     "name": "stdout",
     "output_type": "stream",
     "text": [
      "42\n"
     ]
    }
   ],
   "source": [
    "my_dict = {'foo': 42}\n",
    "value = my_dict['foo']\n",
    "print(value) \n"
   ]
  },
  {
   "cell_type": "markdown",
   "id": "ad348d98",
   "metadata": {},
   "source": [
    "\n",
    "Ans 3\n",
    "\n",
    "The most significant distinction between a dictionary and a list in programming is how they store and access data:\n",
    "\n",
    "1. Data Storage:\n",
    "   - **List**: A list is an ordered collection of items where each item has a numerical index starting from 0. Lists are typically used to store a sequence of items of the same or different types.\n",
    "   - **Dictionary**: A dictionary is an unordered collection of key-value pairs. Instead of using numerical indices, dictionaries use keys to access their values. Each key is unique within a dictionary, and it maps to a specific value.\n",
    "\n",
    "2. Accessing Data:\n",
    "   - **List**: To access elements in a list, you use numerical indices. For example, `my_list[0]` would access the first element in the list.\n",
    "   - **Dictionary**: To access values in a dictionary, you use keys. For example, `my_dict['key']` would access the value associated with the key `'key'`.\n",
    "\n",
    "3. Order:\n",
    "   - **List**: Lists maintain the order of elements based on their positions. The first element is at index 0, the second at index 1, and so on.\n",
    "   - **Dictionary**: Dictionaries are unordered, meaning there is no guaranteed order of key-value pairs. Starting from Python 3.7 and later, dictionaries maintain insertion order, but you should not rely on this behavior in versions of Python prior to 3.7.\n",
    "\n",
    "4. Use Cases:\n",
    "   - **List**: Lists are commonly used when you need to store and manipulate ordered collections of data. For example, you might use a list to store a list of numbers, names, or any sequence of items.\n",
    "   - **Dictionary**: Dictionaries are used when you want to store data as key-value pairs and need to efficiently look up values based on their keys. They are particularly useful for data retrieval operations.\n",
    "\n",
    "Here's a simple comparison to illustrate the difference:\n",
    "\n",
    "```python\n",
    "# List\n",
    "my_list = [1, 2, 3]\n",
    "print(my_list[0])  # Accessing the first element, prints 1\n",
    "\n",
    "# Dictionary\n",
    "my_dict = {'key1': 'value1', 'key2': 'value2', 'key3': 'value3'}\n",
    "print(my_dict['key2'])  # Accessing value by key, prints 'value2'\n",
    "```\n",
    "\n",
    "In summary, lists are used for ordered collections of data accessible by index, while dictionaries are used for unordered collections of data accessible by keys. The choice between them depends on the specific requirements of your program or data structure."
   ]
  },
  {
   "cell_type": "code",
   "execution_count": 2,
   "id": "b1477619",
   "metadata": {},
   "outputs": [
    {
     "name": "stdout",
     "output_type": "stream",
     "text": [
      "1\n",
      "value2\n"
     ]
    }
   ],
   "source": [
    "# List\n",
    "my_list = [1, 2, 3]\n",
    "print(my_list[0])  # Accessing the first element, prints 1\n",
    "\n",
    "# Dictionary\n",
    "my_dict = {'key1': 'value1', 'key2': 'value2', 'key3': 'value3'}\n",
    "print(my_dict['key2'])  # Accessing value by key, prints 'value2'\n"
   ]
  },
  {
   "cell_type": "markdown",
   "id": "4c6074ee",
   "metadata": {},
   "source": [
    "\n",
    "\n",
    "Ans 4\n",
    "\n",
    "\n",
    "If you try to access `spam['foo']` when `spam` is the dictionary `{'bar': 100}`, you will encounter a `KeyError`. This error occurs because there is no key `'foo'` in the `spam` dictionary, and attempting to access a non-existent key in a dictionary using square brackets will raise a `KeyError` in Python.\n",
    "\n",
    "Here's what happens if you try to access it:\n",
    "\n",
    "```python\n",
    "spam = {'bar': 100}\n",
    "value = spam['foo']  # This will raise a KeyError\n",
    "```\n",
    "\n",
    "To avoid this error, you should make sure that the key you are trying to access exists in the dictionary before attempting to access it. You can use the `in` operator or the `get()` method to safely check for the existence of a key:\n",
    "\n",
    "Using the `in` operator:\n",
    "```python\n",
    "if 'foo' in spam:\n",
    "    value = spam['foo']\n",
    "else:\n",
    "    value = None  # Handle the case where 'foo' is not in the dictionary\n",
    "```\n",
    "\n",
    "Using the `get()` method with a default value:\n",
    "```python\n",
    "value = spam.get('foo', None)  # Returns None if 'foo' is not in the dictionary\n",
    "```\n",
    "\n",
    "These approaches allow you to handle cases where the key may or may not exist in the dictionary without raising a `KeyError`."
   ]
  },
  {
   "cell_type": "code",
   "execution_count": 3,
   "id": "fb5377ed",
   "metadata": {},
   "outputs": [
    {
     "ename": "KeyError",
     "evalue": "'foo'",
     "output_type": "error",
     "traceback": [
      "\u001b[1;31m---------------------------------------------------------------------------\u001b[0m",
      "\u001b[1;31mKeyError\u001b[0m                                  Traceback (most recent call last)",
      "Input \u001b[1;32mIn [3]\u001b[0m, in \u001b[0;36m<cell line: 2>\u001b[1;34m()\u001b[0m\n\u001b[0;32m      1\u001b[0m spam \u001b[38;5;241m=\u001b[39m {\u001b[38;5;124m'\u001b[39m\u001b[38;5;124mbar\u001b[39m\u001b[38;5;124m'\u001b[39m: \u001b[38;5;241m100\u001b[39m}\n\u001b[1;32m----> 2\u001b[0m value \u001b[38;5;241m=\u001b[39m \u001b[43mspam\u001b[49m\u001b[43m[\u001b[49m\u001b[38;5;124;43m'\u001b[39;49m\u001b[38;5;124;43mfoo\u001b[39;49m\u001b[38;5;124;43m'\u001b[39;49m\u001b[43m]\u001b[49m\n",
      "\u001b[1;31mKeyError\u001b[0m: 'foo'"
     ]
    }
   ],
   "source": [
    "spam = {'bar': 100}\n",
    "value = spam['foo']  # This will raise a KeyError\n"
   ]
  },
  {
   "cell_type": "code",
   "execution_count": 4,
   "id": "130a42bb",
   "metadata": {},
   "outputs": [],
   "source": [
    "if 'foo' in spam:\n",
    "    value = spam['foo']\n",
    "else:\n",
    "    value = None  # Handle the case where 'foo' is not in the dictionary\n"
   ]
  },
  {
   "cell_type": "code",
   "execution_count": 5,
   "id": "f65c5f9f",
   "metadata": {},
   "outputs": [],
   "source": [
    "value = spam.get('foo', None)  # Returns None if 'foo' is not in the dictionary\n"
   ]
  },
  {
   "cell_type": "markdown",
   "id": "80da9692",
   "metadata": {},
   "source": [
    "\n",
    "\n",
    "Ans 5\n",
    "\n",
    "In Python, there is no practical difference between the expressions `'cat' in spam` and `'cat' in spam.keys()` when you are checking for the existence of a key in a dictionary. Both expressions serve the same purpose: to determine whether the key `'cat'` exists in the dictionary `spam`. However, there is a subtle difference in how they work internally.\n",
    "\n",
    "1. `'cat' in spam`:\n",
    "   - This expression checks if the key `'cat'` exists in the dictionary `spam`. It does this by directly checking the keys of the dictionary without the need to explicitly call `spam.keys()`.\n",
    "   - It is a concise way to check for the existence of a key in a dictionary.\n",
    "\n",
    "2. `'cat' in spam.keys()`:\n",
    "   - This expression explicitly calls the `keys()` method on the `spam` dictionary to obtain a list of its keys. Then, it checks if `'cat'` exists in that list.\n",
    "   - While this works, it involves an extra step of generating a list of keys, which can be less efficient than the first expression. In practice, you should prefer the first expression (`'cat' in spam`) for simplicity and efficiency.\n",
    "\n",
    "So, both expressions will provide the same result, but using `'cat' in spam` is generally more idiomatic and efficient when checking for key existence in a dictionary."
   ]
  },
  {
   "cell_type": "markdown",
   "id": "59bd4100",
   "metadata": {},
   "source": [
    "\n",
    "\n",
    "Ans 6\n",
    "\n",
    "The expressions `'cat' in spam` and `'cat' in spam.values()` serve different purposes when checking for the presence of a key in a dictionary.\n",
    "\n",
    "1. `'cat' in spam`:\n",
    "   - This expression checks if the key `'cat'` exists in the dictionary `spam`. It looks for the key directly in the dictionary's keys.\n",
    "   - If `'cat'` is a key in `spam`, this expression will return `True`. If not, it will return `False`.\n",
    "\n",
    "2. `'cat' in spam.values()`:\n",
    "   - This expression checks if the value `'cat'` exists in the dictionary `spam`. It looks for the value in all the values of the dictionary.\n",
    "   - If `'cat'` is one of the values associated with any key in `spam`, this expression will return `True`. If not, it will return `False`.\n",
    "\n",
    "Here's an example to illustrate the difference:\n",
    "\n",
    "```python\n",
    "spam = {'color': 'blue', 'animal': 'cat', 'fruit': 'apple'}\n",
    "\n",
    "# Checking for the presence of keys and values\n",
    "print('cat' in spam)          # False (key 'cat' does not exist)\n",
    "print('cat' in spam.values())  # True ('cat' is a value)\n",
    "\n",
    "print('apple' in spam)           # False (no key has the value 'apple')\n",
    "print('apple' in spam.values())  # True ('apple' is a value associated with the key 'fruit')\n",
    "```\n",
    "\n",
    "In summary, `'cat' in spam` checks for the existence of the key `'cat'` in the dictionary, while `'cat' in spam.values()` checks if the value `'cat'` exists in any of the dictionary's values. These expressions serve different purposes and may have different use cases depending on what you want to check in the dictionary."
   ]
  },
  {
   "cell_type": "code",
   "execution_count": 8,
   "id": "efbffaa3",
   "metadata": {},
   "outputs": [
    {
     "name": "stdout",
     "output_type": "stream",
     "text": [
      "False\n",
      "True\n",
      "False\n",
      "True\n"
     ]
    }
   ],
   "source": [
    "spam = {'color': 'blue', 'animal': 'cat', 'fruit': 'apple'}\n",
    "\n",
    "# Checking for the presence of keys and values\n",
    "print('cat' in spam)           # False (key 'cat' does not exist)\n",
    "print('cat' in spam.values())  # True ('cat' is a value)\n",
    "\n",
    "print('apple' in spam)           # False (no key has the value 'apple')\n",
    "print('apple' in spam.values())  # True ('apple' is a value associated with the key 'fruit')\n",
    "\n"
   ]
  },
  {
   "cell_type": "markdown",
   "id": "917e970b",
   "metadata": {},
   "source": [
    "\n",
    "\n",
    "Ans 7\n",
    "\n",
    "You can use the `setdefault()` method to achieve the same result with a shorter code snippet. The `setdefault()` method checks if a key exists in the dictionary and sets a default value if the key is not present. Here's the shortcut:\n",
    "\n",
    "```python\n",
    "spam.setdefault('color', 'black')\n",
    "```\n",
    "\n",
    "This code will check if `'color'` exists in the `spam` dictionary. If it does, it will leave the existing value unchanged. If it doesn't, it will set the value for `'color'` to `'black'`."
   ]
  },
  {
   "cell_type": "code",
   "execution_count": 9,
   "id": "be62382a",
   "metadata": {},
   "outputs": [
    {
     "data": {
      "text/plain": [
       "'blue'"
      ]
     },
     "execution_count": 9,
     "metadata": {},
     "output_type": "execute_result"
    }
   ],
   "source": [
    "spam.setdefault('color', 'black')\n",
    "\n"
   ]
  },
  {
   "cell_type": "markdown",
   "id": "aedd2f2a",
   "metadata": {},
   "source": [
    "\n",
    "\n",
    "\n",
    "\n",
    "Ans 8 \n",
    "\n",
    "To \"pretty print\" dictionary values in Python, you can use the `pprint` module (pretty-print) from the `pprint` library. The `pprint` module provides a `pprint()` function that formats and displays data structures like dictionaries and lists in a more human-readable and visually organized way. Here's how you can use it:\n",
    "\n",
    "```python\n",
    "import pprint\n",
    "\n",
    "my_dict = {\n",
    "    'name': 'John',\n",
    "    'age': 30,\n",
    "    'city': 'New York',\n",
    "    'interests': ['programming', 'reading', 'hiking'],\n",
    "}\n",
    "\n",
    "# Pretty print the dictionary\n",
    "pprint.pprint(my_dict)\n",
    "```\n",
    "\n",
    "When you use `pprint.pprint()`, it will format the dictionary with indentation and line breaks, making it easier to read, especially for complex data structures.\n",
    "\n",
    "Here's an example of what the output might look like:\n",
    "\n",
    "```\n",
    "{'age': 30,\n",
    " 'city': 'New York',\n",
    " 'interests': ['programming', 'reading', 'hiking'],\n",
    " 'name': 'John'}\n",
    "```\n",
    "\n",
    "The `pprint` module is particularly useful when working with large or nested dictionaries and other data structures, as it improves the readability of the output."
   ]
  },
  {
   "cell_type": "code",
   "execution_count": 10,
   "id": "fe05d116",
   "metadata": {},
   "outputs": [
    {
     "name": "stdout",
     "output_type": "stream",
     "text": [
      "{'age': 30,\n",
      " 'city': 'New York',\n",
      " 'interests': ['programming', 'reading', 'hiking'],\n",
      " 'name': 'John'}\n"
     ]
    }
   ],
   "source": [
    "import pprint\n",
    "\n",
    "my_dict = {\n",
    "    'name': 'John',\n",
    "    'age': 30,\n",
    "    'city': 'New York',\n",
    "    'interests': ['programming', 'reading', 'hiking'],\n",
    "}\n",
    "\n",
    "# Pretty print the dictionary\n",
    "pprint.pprint(my_dict)\n"
   ]
  },
  {
   "cell_type": "code",
   "execution_count": null,
   "id": "59193402",
   "metadata": {},
   "outputs": [],
   "source": []
  }
 ],
 "metadata": {
  "kernelspec": {
   "display_name": "Python 3 (ipykernel)",
   "language": "python",
   "name": "python3"
  },
  "language_info": {
   "codemirror_mode": {
    "name": "ipython",
    "version": 3
   },
   "file_extension": ".py",
   "mimetype": "text/x-python",
   "name": "python",
   "nbconvert_exporter": "python",
   "pygments_lexer": "ipython3",
   "version": "3.10.9"
  }
 },
 "nbformat": 4,
 "nbformat_minor": 5
}
