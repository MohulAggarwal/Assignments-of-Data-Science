{
 "cells": [
  {
   "cell_type": "markdown",
   "id": "ab597b21",
   "metadata": {},
   "source": [
    "Ans 1.\n",
    "\n",
    "The Boolean data type represents a logical value that can be either true or false. In most programming languages, including Python, the Boolean values are denoted by the keywords True and False.\n",
    "\n",
    "Here are the two values of the Boolean data type and how they are written in Python:\n",
    "\n",
    "True: This represents the true or \"yes\" condition. It signifies that a statement or condition is true. The keyword True is written with an uppercase 'T' as the first letter followed by lowercase letters, without any quotation marks.\n",
    "\n",
    "False: This represents the false or \"no\" condition. It signifies that a statement or condition is false. The keyword False is written with an uppercase 'F' as the first letter followed by lowercase letters, without any quotation marks."
   ]
  },
  {
   "cell_type": "markdown",
   "id": "dbb53171",
   "metadata": {},
   "source": [
    "Ans 2.\n",
    "\n",
    "The three different types of Boolean operators are:\n",
    "\n",
    "Logical AND (and): The logical AND operator returns True if both operands are true. Otherwise, it returns False. It can be represented using the keyword and. For example:\n",
    "\n",
    "True and True  # Returns True\n",
    "\n",
    "True and False  # Returns False\n",
    "\n",
    "Logical OR (or): The logical OR operator returns True if at least one of the operands is true. If both operands are false, it returns False. It can be represented using the keyword or. For example:\n",
    "\n",
    "True or False  # Returns True\n",
    "\n",
    "False or False  # Returns False\n",
    "\n",
    "Logical NOT (not): The logical NOT operator returns the opposite of the operand. If the operand is True, it returns False, and if the operand is False, it returns True. It can be represented using the keyword not. For example:\n",
    "\n",
    "not True      # Returns False\n",
    "\n",
    "not False    # Returns True\n",
    "\n"
   ]
  },
  {
   "cell_type": "code",
   "execution_count": null,
   "id": "5b02a523",
   "metadata": {},
   "outputs": [],
   "source": [
    "#   Ans 3.\n",
    "\n",
    "# Logical AND (and):\n",
    "\n",
    "\n",
    "# Operand 1 Operand 2   Result\n",
    "# True\t    True\t    True\n",
    "# True\t    False\t    False\n",
    "# False\t    True\t    False\n",
    "# False\t    False\t    False\n",
    "\n",
    "# Logical OR (or):\n",
    "\n",
    "# Operand 1 Operand 2   Result\n",
    "# True\t    True\t    True\n",
    "# True\t    False\t    True\n",
    "# False\t    True\t    True\n",
    "# False\t    False\t    False\n",
    "\n",
    "# Logical NOT (not):\n",
    "\n",
    "# Operand   Result\n",
    "# True      False\n",
    "# False     True"
   ]
  },
  {
   "cell_type": "code",
   "execution_count": 6,
   "id": "b477dd85",
   "metadata": {},
   "outputs": [
    {
     "data": {
      "text/plain": [
       "False"
      ]
     },
     "execution_count": 6,
     "metadata": {},
     "output_type": "execute_result"
    }
   ],
   "source": [
    "# Ans 4.\n",
    "\n",
    "(5>4) and (3==5)"
   ]
  },
  {
   "cell_type": "code",
   "execution_count": 7,
   "id": "7b303c70",
   "metadata": {},
   "outputs": [
    {
     "data": {
      "text/plain": [
       "False"
      ]
     },
     "execution_count": 7,
     "metadata": {},
     "output_type": "execute_result"
    }
   ],
   "source": [
    "not(5>4)"
   ]
  },
  {
   "cell_type": "code",
   "execution_count": 8,
   "id": "9e00b0c2",
   "metadata": {},
   "outputs": [
    {
     "data": {
      "text/plain": [
       "True"
      ]
     },
     "execution_count": 8,
     "metadata": {},
     "output_type": "execute_result"
    }
   ],
   "source": [
    "(5>4) or (3==5)"
   ]
  },
  {
   "cell_type": "code",
   "execution_count": 9,
   "id": "e90686e0",
   "metadata": {},
   "outputs": [
    {
     "data": {
      "text/plain": [
       "False"
      ]
     },
     "execution_count": 9,
     "metadata": {},
     "output_type": "execute_result"
    }
   ],
   "source": [
    "not((5>4) or (3==5))"
   ]
  },
  {
   "cell_type": "code",
   "execution_count": 10,
   "id": "925e14ef",
   "metadata": {},
   "outputs": [
    {
     "data": {
      "text/plain": [
       "True"
      ]
     },
     "execution_count": 10,
     "metadata": {},
     "output_type": "execute_result"
    }
   ],
   "source": [
    "((not False) or (not True)) "
   ]
  },
  {
   "cell_type": "markdown",
   "id": "fd6a5c66",
   "metadata": {},
   "source": [
    "Ans 5\n",
    "\n",
    "The six comparison operators in Python are as follows:\n",
    "\n",
    "* Equal to (==): This operator checks if two values are equal and returns True if they are, and False otherwise. For example:\n",
    "\n",
    "5 == 5     # Returns True\n",
    "\n",
    "5 == 10    # Returns False\n",
    "\n",
    "*  Not equal to (!=): This operator checks if two values are not equal and returns True if they are not, and False otherwise. For example:\n",
    "\n",
    "5 != 5  # Returns False\n",
    "\n",
    "5 != 10  # Returns True\n",
    "\n",
    "* Greater than (>): This operator checks if the left operand is greater than the right operand and returns True if it is, and False otherwise. For example:\n",
    "\n",
    "10 > 5  # Returns True\n",
    "\n",
    "5 > 10  # Returns False\n",
    "\n",
    "* Less than (<): This operator checks if the left operand is less than the right operand and returns True if it is, and False otherwise. For example:\n",
    "\n",
    "5 < 10  # Returns True\n",
    "\n",
    "10 < 5  # Returns False\n",
    "\n",
    "* Greater than or equal to (>=): This operator checks if the left operand is greater than or equal to the right operand and returns True if it is, and False otherwise. For example:\n",
    "\n",
    "10 >= 5  # Returns True\n",
    "\n",
    "\n",
    "5 >= 10  # Returns False\n",
    "\n",
    "* Less than or equal to (<=): This operator checks if the left operand is less than or equal to the right operand and returns True if it is, and False otherwise. For example:\n",
    "\n",
    "5 <= 10  # Returns True\n",
    "\n",
    "\n",
    "10 <= 5  # Returns False"
   ]
  },
  {
   "cell_type": "markdown",
   "id": "8dae5c72",
   "metadata": {},
   "source": [
    "Ans6.\n",
    "\n",
    "In Python, the equal to operator (==) is used for comparison, while the assignment operator (=) is used for assignment. The key differences between the two are as follows:\n",
    "\n",
    "1. Equal to operator (==):\n",
    "\n",
    "Syntax: value1 == value2\n",
    "\n",
    "Purpose: Checks if value1 is equal to value2.\n",
    "\n",
    "Result: Returns True if the values are equal, and False if they are not.\n",
    "\n",
    "\n",
    "2.Assignment operator (=):\n",
    "\n",
    "Syntax: variable = value\n",
    "\n",
    "Purpose: Assigns the value on the right side of the operator to the variable on the left side.\n",
    "\n",
    "Result: No explicit result is returned. The assignment operation modifies the variable, giving it a new value.\n",
    "\n",
    "\n",
    "To differentiate between the equal to and assignment operators, consider the context and usage:\n",
    "\n",
    "\n",
    "* Condition: When you want to compare two values and check their equality, you would use the equal to operator (==). For example:"
   ]
  },
  {
   "cell_type": "code",
   "execution_count": 12,
   "id": "c26c03de",
   "metadata": {},
   "outputs": [
    {
     "name": "stdout",
     "output_type": "stream",
     "text": [
      "x is not equal to y\n"
     ]
    }
   ],
   "source": [
    "x = 5\n",
    "y = 10\n",
    "if x == y:\n",
    "    print(\"x is equal to y\")\n",
    "else:\n",
    "    print(\"x is not equal to y\")"
   ]
  },
  {
   "cell_type": "markdown",
   "id": "23081957",
   "metadata": {},
   "source": [
    "In this condition, the equal to operator is used to compare the values of x and y. If x is equal to y, it will print \"x is equal\n",
    "to y\"; \n",
    "otherwise, it will print \"x is not equal to y\"."
   ]
  },
  {
   "cell_type": "markdown",
   "id": "2aa4cfaa",
   "metadata": {},
   "source": [
    "* Assignment: When you want to assign a value to a variable, you would use the assignment operator (`=``). For example:"
   ]
  },
  {
   "cell_type": "code",
   "execution_count": 13,
   "id": "9be39883",
   "metadata": {},
   "outputs": [],
   "source": [
    "x = 5\n",
    "y = x + 3"
   ]
  },
  {
   "cell_type": "markdown",
   "id": "6e97789f",
   "metadata": {},
   "source": [
    "In this assignment, the value of x + 3 is assigned to the variable y. The assignment operator is used to store the result of the \n",
    "expression on the right side into the variable on the left side."
   ]
  },
  {
   "cell_type": "code",
   "execution_count": 17,
   "id": "3431db8d",
   "metadata": {},
   "outputs": [
    {
     "name": "stdout",
     "output_type": "stream",
     "text": [
      "ham\n",
      "spam\n",
      "spam\n"
     ]
    }
   ],
   "source": [
    "#Ans7\n",
    "\n",
    "\n",
    "spam = 0\n",
    "if spam == 10:          # Block1  \n",
    "    print('eggs')\n",
    "if spam > 5:            # Block2  \n",
    "    print('bacon')\n",
    "else:                   # Block3\n",
    "    print('ham')\n",
    "    print('spam')\n",
    "print('spam')\n"
   ]
  },
  {
   "cell_type": "code",
   "execution_count": 1,
   "id": "5ea44d4d",
   "metadata": {},
   "outputs": [
    {
     "name": "stdout",
     "output_type": "stream",
     "text": [
      "Please Enter a number: 1\n",
      "Hello\n"
     ]
    }
   ],
   "source": [
    "# Ans8\n",
    "\n",
    "spam = int(input(\"Please Enter a number: \"))\n",
    "\n",
    "if spam == 1:\n",
    "    print(\"Hello\")\n",
    "elif spam == 2:\n",
    "    print(\"Howdy\")\n",
    "else:\n",
    "    print(\"Greetings!\")"
   ]
  },
  {
   "cell_type": "markdown",
   "id": "ccbaa2d0",
   "metadata": {},
   "source": [
    "Ans 9\n",
    "\n",
    "Ctrl + C"
   ]
  },
  {
   "cell_type": "markdown",
   "id": "41ec9c08",
   "metadata": {},
   "source": [
    "Ans 10\n",
    "\n",
    "In Python, break and continue are two different control flow statements used within loops. Here's how you can tell the difference between them:\n",
    "\n",
    "break statement:\n",
    "\n",
    "When encountered within a loop, such as a for or while loop, the break statement immediately terminates the loop and resumes execution at the next statement after the loop.\n",
    "It allows you to exit the loop prematurely based on a specific condition, regardless of the loop's iteration status.\n",
    "After encountering break, the loop is completely terminated, and the program execution continues outside the loop.\n",
    "\n",
    "Usage example:"
   ]
  },
  {
   "cell_type": "code",
   "execution_count": 2,
   "id": "787962cb",
   "metadata": {},
   "outputs": [
    {
     "name": "stdout",
     "output_type": "stream",
     "text": [
      "0\n",
      "1\n",
      "2\n",
      "3\n",
      "4\n"
     ]
    }
   ],
   "source": [
    "for i in range(10):\n",
    "    if i == 5:\n",
    "        break\n",
    "    print(i)"
   ]
  },
  {
   "cell_type": "markdown",
   "id": "1863284a",
   "metadata": {},
   "source": [
    "continue statement:\n",
    "\n",
    "When encountered within a loop, the continue statement immediately jumps to the next iteration of the loop, skipping the remaining code within the loop for the current iteration.\n",
    "It allows you to skip specific iterations of the loop based on a particular condition without terminating the loop entirely.\n",
    "After encountering continue, the loop proceeds to the next iteration, and the subsequent code within the loop is skipped.\n",
    "\n",
    "Usage example:"
   ]
  },
  {
   "cell_type": "code",
   "execution_count": 11,
   "id": "13d8fb86",
   "metadata": {},
   "outputs": [
    {
     "name": "stdout",
     "output_type": "stream",
     "text": [
      "1\n",
      "3\n",
      "5\n",
      "7\n",
      "9\n"
     ]
    }
   ],
   "source": [
    "for i in range(10):\n",
    "    if i % 2 == 0:\n",
    "        continue\n",
    "    print(i)"
   ]
  },
  {
   "cell_type": "markdown",
   "id": "dc64cde8",
   "metadata": {},
   "source": [
    "\n",
    "Ans 11\n",
    "\n",
    "In a for loop, the expressions range(10), range(0, 10), and range(0, 10, 1) all generate a sequence of numbers, but they have slightly different ways of specifying the range. Here's how they differ:"
   ]
  },
  {
   "cell_type": "markdown",
   "id": "78d83ba5",
   "metadata": {},
   "source": [
    "range(10):\n",
    "\n",
    "This expression generates a sequence of numbers from 0 to 9 (inclusive).\n",
    "\n",
    "It starts from the default starting point, which is 0, and increments by 1 by default.\n",
    "\n",
    "The value inside the parentheses represents the stop value, which is exclusive. In this case, the stop value is 10, so the sequence includes numbers up to 9.\n",
    "\n",
    "Usage example:"
   ]
  },
  {
   "cell_type": "code",
   "execution_count": 15,
   "id": "f88cf0f3",
   "metadata": {},
   "outputs": [
    {
     "name": "stdout",
     "output_type": "stream",
     "text": [
      "0\n",
      "1\n",
      "2\n",
      "3\n",
      "4\n",
      "5\n",
      "6\n",
      "7\n",
      "8\n",
      "9\n"
     ]
    }
   ],
   "source": [
    "for i in range(10):\n",
    "    print(i)"
   ]
  },
  {
   "cell_type": "markdown",
   "id": "58110d85",
   "metadata": {},
   "source": [
    "range(0, 10):\n",
    "\n",
    "This expression generates a sequence of numbers from 0 to 9 (inclusive), just like range(10).\n",
    "\n",
    "However, it explicitly specifies the starting point as 0. The value inside the first argument represents the start value, while the value inside the second argument represents the stop value (exclusive).\n",
    "\n",
    "The increment is still 1 by default, so the sequence increments by 1 from the start value to the stop value.\n",
    "\n",
    "Usage example:"
   ]
  },
  {
   "cell_type": "code",
   "execution_count": 16,
   "id": "7deedb10",
   "metadata": {},
   "outputs": [
    {
     "name": "stdout",
     "output_type": "stream",
     "text": [
      "0\n",
      "1\n",
      "2\n",
      "3\n",
      "4\n",
      "5\n",
      "6\n",
      "7\n",
      "8\n",
      "9\n"
     ]
    }
   ],
   "source": [
    "for i in range(0, 10):\n",
    "    print(i)"
   ]
  },
  {
   "cell_type": "markdown",
   "id": "96c95506",
   "metadata": {},
   "source": [
    "range(0, 10, 1):\n",
    "\n",
    "This expression generates a sequence of numbers from 0 to 9 (inclusive), just like the previous two examples.\n",
    "\n",
    "It specifies the starting point as 0 and the stop value as 10 (exclusive), similar to range(0, 10).\n",
    "\n",
    "Additionally, it explicitly specifies the increment value as 1. The value inside the third argument represents the step or increment value.\n",
    "\n",
    "Since the increment is 1, the sequence increments by 1 from the start value to the stop value, similar to the previous examples.\n",
    "\n",
    "Usage example:\n"
   ]
  },
  {
   "cell_type": "code",
   "execution_count": 17,
   "id": "1938164d",
   "metadata": {},
   "outputs": [
    {
     "name": "stdout",
     "output_type": "stream",
     "text": [
      "0\n",
      "1\n",
      "2\n",
      "3\n",
      "4\n",
      "5\n",
      "6\n",
      "7\n",
      "8\n",
      "9\n"
     ]
    }
   ],
   "source": [
    "for i in range(0, 10, 1):\n",
    "    print(i)"
   ]
  },
  {
   "cell_type": "code",
   "execution_count": 2,
   "id": "09e1d99e",
   "metadata": {},
   "outputs": [
    {
     "name": "stdout",
     "output_type": "stream",
     "text": [
      "1\n",
      "2\n",
      "3\n",
      "4\n",
      "5\n",
      "6\n",
      "7\n",
      "8\n",
      "9\n",
      "10\n"
     ]
    }
   ],
   "source": [
    "#Ans 12\n",
    "#using for loop\n",
    "\n",
    "for i in range(1, 11):\n",
    "    print(i)"
   ]
  },
  {
   "cell_type": "code",
   "execution_count": 5,
   "id": "f1f1227e",
   "metadata": {},
   "outputs": [
    {
     "name": "stdout",
     "output_type": "stream",
     "text": [
      "1\n",
      "2\n",
      "3\n",
      "4\n",
      "5\n",
      "6\n",
      "7\n",
      "8\n",
      "9\n",
      "10\n"
     ]
    }
   ],
   "source": [
    "# Using while loop\n",
    "i = 1\n",
    "while i <= 10:\n",
    "    print(i)\n",
    "    i += 1\n"
   ]
  },
  {
   "cell_type": "code",
   "execution_count": 9,
   "id": "246df2a8",
   "metadata": {},
   "outputs": [],
   "source": [
    "# Ans 13\n",
    "\n",
    "# Import the module 'spam'\n",
    "# import spam\n",
    "\n",
    "# Call the function 'bacon()' from the module 'spam'\n",
    "# spam.bacon()\n"
   ]
  },
  {
   "cell_type": "markdown",
   "id": "1388385a",
   "metadata": {},
   "source": [
    "Assuming the function bacon() is defined inside the spam module, this code will call the bacon() function and execute its code.\n",
    "\n",
    "The dot notation spam.bacon() specifies that the bacon() function is part of the spam module and should be invoked."
   ]
  },
  {
   "cell_type": "code",
   "execution_count": null,
   "id": "e7622c6a",
   "metadata": {},
   "outputs": [],
   "source": []
  }
 ],
 "metadata": {
  "kernelspec": {
   "display_name": "Python 3 (ipykernel)",
   "language": "python",
   "name": "python3"
  },
  "language_info": {
   "codemirror_mode": {
    "name": "ipython",
    "version": 3
   },
   "file_extension": ".py",
   "mimetype": "text/x-python",
   "name": "python",
   "nbconvert_exporter": "python",
   "pygments_lexer": "ipython3",
   "version": "3.10.9"
  }
 },
 "nbformat": 4,
 "nbformat_minor": 5
}
